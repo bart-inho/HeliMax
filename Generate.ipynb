{
 "cells": [
  {
   "cell_type": "markdown",
   "metadata": {},
   "source": [
    "Import packages"
   ]
  },
  {
   "cell_type": "code",
   "execution_count": 5,
   "metadata": {},
   "outputs": [],
   "source": [
    "import numpy as np\n",
    "import matplotlib.pyplot as plt\n",
    "import h5py\n",
    "from os.path import exists\n",
    "import os\n",
    "\n"
   ]
  },
  {
   "cell_type": "code",
   "execution_count": 6,
   "metadata": {},
   "outputs": [],
   "source": [
    "# Model size and discretization\n",
    "xsize = 20 # size of the model [m]\n",
    "ysize = 100\n",
    "\n",
    "dx = .25 # discretization\n",
    "dy = .25\n",
    "dz = .25\n",
    "\n",
    "nx = int(xsize / dx) # number of cell\n",
    "ny = int(ysize / dy)\n",
    "\n",
    "# Frequency\n",
    "freq = 25e6 # MHz\n",
    "time_window = 1.5e-6"
   ]
  },
  {
   "cell_type": "code",
   "execution_count": 9,
   "metadata": {},
   "outputs": [
    {
     "data": {
      "text/plain": [
       "34"
      ]
     },
     "execution_count": 9,
     "metadata": {},
     "output_type": "execute_result"
    }
   ],
   "source": [
    "folder = 'GenerateModels/'\n",
    "pathinput = 'bedrock_model.in'\n",
    "pathmaterials = 'bedrock_model_materials.txt'\n",
    "\n",
    "filename = open(pathinput, 'w')\n",
    "filname_materials = open(pathmaterials, 'w')\n",
    "\n",
    "# Define materials\n",
    "#mat_helicopter = []\n",
    "mat_freespace = [1., 0., 1., 3.] # gprMax build in [eps_r ; sigma ; mu_r ; vel]\n",
    "mat_glacier = [3.2, 5.e-8, 1., 0.1]  # Church et al., 2020\n",
    "mat_bedrock = [5., 0.01, 1, 1.3] # granite Annan (1999)\n",
    "\n",
    "# generate file with material properties\n",
    "filname_materials.write('#material: '+str(mat_freespace[0])+' '+str(mat_freespace[1])+' '+str(mat_freespace[2])+' '+str(mat_freespace[3])+' freespace\\n')\n",
    "filname_materials.write('#material: '+str(mat_glacier[0])+' '+str(mat_glacier[1])+' '+str(mat_glacier[2])+' '+str(mat_glacier[3])+' glacier\\n')\n",
    "filname_materials.write('#material: '+str(mat_bedrock[0])+' '+str(mat_bedrock[1])+' '+str(mat_bedrock[2])+' '+str(mat_bedrock[3])+' bedrock\\n')\n"
   ]
  },
  {
   "cell_type": "code",
   "execution_count": 63,
   "metadata": {},
   "outputs": [
    {
     "data": {
      "image/png": "[encoded data removed]",
      "text/plain": [
       "<Figure size 640x480 with 2 Axes>"
      ]
     },
     "metadata": {},
     "output_type": "display_data"
    }
   ],
   "source": [
    "model = np.zeros((ny, nx))\n",
    "model[round(ny/2):ny,:] = 1\n",
    "\n",
    "r = .8*xsize\n",
    "center = [0, round(nx/2)]\n",
    "for i in range(0, ny):\n",
    "    for j in range(0, nx):\n",
    "        rij = np.sqrt(((j - round(nx/2))*dx)**2 + ((i - 0)*dy)**2)\n",
    "        if rij > r and i > round(ny/2):\n",
    "            model[i, j] = 2\n",
    "            # Plot the model\n",
    "\n",
    "model = np.flip(model, axis=0)\n",
    "plt.imshow(model)\n",
    "#plt.scatter(transy/ysize*ny, transx/xsize*nx)\n",
    "# plt.scatter(receiy/ysize*ny, receix/xsize*nx)\n",
    "ax = plt.gca()\n",
    "ax.invert_yaxis()\n",
    "plt.colorbar()\n",
    "plt.show()\n"
   ]
  },
  {
   "cell_type": "code",
   "execution_count": 52,
   "metadata": {},
   "outputs": [
    {
     "name": "stdout",
     "output_type": "stream",
     "text": [
      "10\n",
      "33\n",
      "10\n",
      "67\n"
     ]
    }
   ],
   "source": [
    "transx = round(xsize/2+.5)\n",
    "transy = round(ysize/3)\n",
    "receix = round(xsize/2+.5)\n",
    "receiy = round(ysize*2/3)"
   ]
  },
  {
   "cell_type": "code",
   "execution_count": 54,
   "metadata": {},
   "outputs": [],
   "source": [
    "# Rehape the model for gprMax compulsory third dimension\n",
    "model = np.reshape(model, (1, nx, ny))\n",
    "\n",
    "# generate h5 file\n",
    "pathh5 = 'bedrock.h5'\n",
    "if exists(pathh5) == True:\n",
    "    os.remove(pathh5)\n",
    "\n",
    "hdf = h5py.File(pathh5, 'w')\n",
    "modelh5 = hdf.create_dataset(name = 'data', data = model)\n",
    "hdf.attrs['dx_dy_dz'] = [dx, dy, dz]"
   ]
  },
  {
   "cell_type": "code",
   "execution_count": 55,
   "metadata": {},
   "outputs": [
    {
     "data": {
      "text/plain": [
       "83"
      ]
     },
     "execution_count": 55,
     "metadata": {},
     "output_type": "execute_result"
    }
   ],
   "source": [
    "\n",
    "# Generate .in file\n",
    "filename.write('#title: bedrock_model \\n')\n",
    "filename.write('#domain: '+str(xsize)+' '+str(ysize)+' '+str(dz)+' \\n')\n",
    "filename.write('#dx_dy_dz: '+str(dx)+' '+str(dy)+' '+str(dz)+' \\n')\n",
    "filename.write('#time_window: '+ str(time_window)+'\\n')\n",
    "filename.write('#waveform: ricker 1 '+ str(freq)+ ' my_ricker\\n')\n",
    "filename.write('#hertzian_dipole: z '+str(transx)+' '+str(transy)+' 0 my_ricker\\n')\n",
    "filename.write('#rx: '+str(receix)+' '+str(receiy)+' 0\\n')\n",
    "#filename.write('#src_steps: 0.5 0 0\\n')\n",
    "#filename.write('#rx_steps: 0.5 0 0\\n')\n",
    "filename.write('#geometry_objects_read: 0 0 0 '+pathh5+' '+folder+pathmaterials)"
   ]
  },
  {
   "cell_type": "code",
   "execution_count": null,
   "metadata": {},
   "outputs": [],
   "source": []
  }
 ],
 "metadata": {
  "kernelspec": {
   "display_name": "Python 3.8.15 ('gprMax')",
   "language": "python",
   "name": "python3"
  },
  "language_info": {
   "codemirror_mode": {
    "name": "ipython",
    "version": 3
   },
   "file_extension": ".py",
   "mimetype": "text/x-python",
   "name": "python",
   "nbconvert_exporter": "python",
   "pygments_lexer": "ipython3",
   "version": "3.8.15"
  },
  "orig_nbformat": 4,
  "vscode": {
   "interpreter": {
    "hash": "05c565f0c8909fabecd3ce32b8b8d05873a41693fcc0b7bf7fa08457448cb5e7"
   }
  }
 },
 "nbformat": 4,
 "nbformat_minor": 2
}
